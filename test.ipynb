{
 "cells": [
  {
   "cell_type": "markdown",
   "id": "52ffd479",
   "metadata": {},
   "source": [
    "## player code"
   ]
  },
  {
   "cell_type": "code",
   "execution_count": null,
   "id": "470dea38",
   "metadata": {},
   "outputs": [],
   "source": [
    "class Player:\n",
    "    def __init__(self,name,category,team,credit):\n",
    "        self.name = name\n",
    "        self.category = category\n",
    "        self.team = team\n",
    "        self.credit = credit\n",
    "        \n",
    "    def __str__(self):\n",
    "        return self.name\n",
    "    \n",
    "    def __repr__(self):\n",
    "        return self.name"
   ]
  },
  {
   "cell_type": "markdown",
   "id": "fc45ce49",
   "metadata": {},
   "source": [
    "## combination code"
   ]
  },
  {
   "cell_type": "code",
   "execution_count": 38,
   "id": "c2a7890c",
   "metadata": {},
   "outputs": [],
   "source": [
    "def printCombination(arr, n, r):\n",
    "    l = []\n",
    "    data = [0]*r\n",
    "    combinationUtil(arr, data, 0, n - 1, 0, r,l)\n",
    "    return l\n",
    "\n",
    "def combinationUtil(arr, data, start, end, index, r,l):\n",
    "    if (index == r):\n",
    "        l.append([data[j] for j in range(r)])\n",
    "        return\n",
    "\n",
    "    i = start\n",
    "    while (i <= end and end - i + 1 >= r - index):\n",
    "        data[index] = arr[i]\n",
    "        combinationUtil(arr, data, i + 1, end, index + 1, r,l)\n",
    "        i += 1"
   ]
  },
  {
   "cell_type": "markdown",
   "id": "2a894666",
   "metadata": {},
   "source": [
    "## read input file"
   ]
  },
  {
   "cell_type": "code",
   "execution_count": 39,
   "id": "d9f3eb0a",
   "metadata": {},
   "outputs": [],
   "source": [
    "import pandas as pd\n",
    "df = pd.read_csv(\"team.csv\")"
   ]
  },
  {
   "cell_type": "code",
   "execution_count": null,
   "id": "97419ae6",
   "metadata": {},
   "outputs": [],
   "source": [
    "print(df)"
   ]
  },
  {
   "cell_type": "markdown",
   "id": "de3a6173",
   "metadata": {},
   "source": [
    "## actual logic"
   ]
  },
  {
   "cell_type": "code",
   "execution_count": 43,
   "id": "6be5887e",
   "metadata": {},
   "outputs": [],
   "source": [
    "lp = [Player(df.iloc[i, 1], df.iloc[i, 2], df.iloc[i, 3], df.iloc[i, 4]) for i in range(len(df))]\n",
    "r = 11\n",
    "n = len(lp)\n",
    "cm = printCombination(lp, n, r)"
   ]
  },
  {
   "cell_type": "code",
   "execution_count": 44,
   "id": "79a4d37d",
   "metadata": {},
   "outputs": [
    {
     "name": "stdout",
     "output_type": "stream",
     "text": [
      "[N Counter, I Kishan, J Neesham, J Bumrah, C Sakariya, R Sharma, E lewis, M Rahman, Y Jaiswal, S yadav, D Miller, R Tewatia, J Yadav, K Pollard, H Pandya, S Dube, S Samson, T Boult, S Tiwary, S Goapal, K Yadav, G Philips]\n"
     ]
    },
    {
     "data": {
      "text/plain": [
       "705432"
      ]
     },
     "execution_count": 44,
     "metadata": {},
     "output_type": "execute_result"
    }
   ],
   "source": [
    "print(lp)\n",
    "len(cm) # expected count 705432"
   ]
  },
  {
   "cell_type": "markdown",
   "id": "a645664b",
   "metadata": {},
   "source": [
    "## Validation"
   ]
  },
  {
   "cell_type": "code",
   "execution_count": 45,
   "id": "51b538a6",
   "metadata": {},
   "outputs": [
    {
     "name": "stdout",
     "output_type": "stream",
     "text": [
      "[N Counter, I Kishan, J Neesham, J Bumrah, C Sakariya, R Sharma, E lewis, M Rahman, Y Jaiswal, S yadav, D Miller]\n",
      "yes\n"
     ]
    }
   ],
   "source": [
    "dream_team = [p for p in lp[:11]]\n",
    "print(dream_team)\n",
    "if dream_team in cm:\n",
    "    print(\"yes\")\n",
    "else:\n",
    "    print(\"no\")"
   ]
  }
 ],
 "metadata": {
  "kernelspec": {
   "display_name": "Python 3 (ipykernel)",
   "language": "python",
   "name": "python3"
  },
  "language_info": {
   "codemirror_mode": {
    "name": "ipython",
    "version": 3
   },
   "file_extension": ".py",
   "mimetype": "text/x-python",
   "name": "python",
   "nbconvert_exporter": "python",
   "pygments_lexer": "ipython3",
   "version": "3.10.8"
  }
 },
 "nbformat": 4,
 "nbformat_minor": 5
}
