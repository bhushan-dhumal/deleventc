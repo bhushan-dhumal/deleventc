{
 "cells": [
  {
   "cell_type": "markdown",
   "id": "52ffd479",
   "metadata": {},
   "source": [
    "## player code"
   ]
  },
  {
   "cell_type": "code",
   "execution_count": 1,
   "id": "470dea38",
   "metadata": {},
   "outputs": [],
   "source": [
    "class Player:\n",
    "    def __init__(self,name,category,team,credit):\n",
    "        self.name = name\n",
    "        self.category = category\n",
    "        self.team = team\n",
    "        self.credit = credit\n",
    "        \n",
    "    def __str__(self):\n",
    "        return self.name\n",
    "    \n",
    "    def __repr__(self):\n",
    "        return self.name"
   ]
  },
  {
   "cell_type": "markdown",
   "id": "fc45ce49",
   "metadata": {},
   "source": [
    "## combination code"
   ]
  },
  {
   "cell_type": "code",
   "execution_count": 2,
   "id": "c2a7890c",
   "metadata": {},
   "outputs": [],
   "source": [
    "def getCombinationList(arr, n, r):\n",
    "    l = []\n",
    "    data = [0]*r\n",
    "    combinationUtil(arr, data, 0, n - 1, 0, r,l)\n",
    "    return l\n",
    "\n",
    "def combinationUtil(arr, data, start, end, index, r,l):\n",
    "    if (index == r):\n",
    "        l.append([data[j] for j in range(r)])\n",
    "        return\n",
    "\n",
    "    i = start\n",
    "    while (i <= end and end - i + 1 >= r - index):\n",
    "        data[index] = arr[i]\n",
    "        combinationUtil(arr, data, i + 1, end, index + 1, r,l)\n",
    "        i += 1"
   ]
  },
  {
   "cell_type": "markdown",
   "id": "3b1dd4aa",
   "metadata": {},
   "source": [
    "## utility methods"
   ]
  },
  {
   "cell_type": "code",
   "execution_count": null,
   "id": "1dd5f1e7",
   "metadata": {},
   "outputs": [],
   "source": []
  },
  {
   "cell_type": "markdown",
   "id": "2a894666",
   "metadata": {},
   "source": [
    "## read input file"
   ]
  },
  {
   "cell_type": "code",
   "execution_count": 3,
   "id": "d9f3eb0a",
   "metadata": {},
   "outputs": [],
   "source": [
    "import pandas as pd\n",
    "df = pd.read_csv(\"team.csv\")"
   ]
  },
  {
   "cell_type": "code",
   "execution_count": 4,
   "id": "97419ae6",
   "metadata": {},
   "outputs": [
    {
     "name": "stdout",
     "output_type": "stream",
     "text": [
      "    No        Name  Type  Team  Credit\n",
      "0    1   N Counter  BOWL     1     8.0\n",
      "1    2    I Kishan    WK     1     8.5\n",
      "2    3   J Neesham   ALL     1     8.5\n",
      "3    4    J Bumrah  BOWL     1     9.5\n",
      "4    5  C Sakariya  BOWL     2     8.5\n",
      "5    6    R Sharma   BAT     1    10.0\n",
      "6    7     E lewis   BAT     2     9.5\n",
      "7    8    M Rahman  BOWL     2     9.0\n",
      "8    9   Y Jaiswal   BAT     2     9.0\n",
      "9   10     S yadav   BAT     1     9.0\n",
      "10  11    D Miller   BAT     2     8.5\n",
      "11  12   R Tewatia   ALL     2     8.5\n",
      "12  13     J Yadav  BOWL     1     8.0\n",
      "13  14   K Pollard   ALL     1     9.0\n",
      "14  15    H Pandya   BAT     1     8.5\n",
      "15  16      S Dube   ALL     2     8.5\n",
      "16  17    S Samson    WK     2    10.0\n",
      "17  18     T Boult  BOWL     1     9.0\n",
      "18  19    S Tiwary   BAT     1     8.0\n",
      "19  20    S Goapal  BOWL     2     8.5\n",
      "20  21     K Yadav  BOWL     2     7.5\n",
      "21  22   G Philips   BAT     2     8.5\n"
     ]
    }
   ],
   "source": [
    "print(df)"
   ]
  },
  {
   "cell_type": "markdown",
   "id": "de3a6173",
   "metadata": {},
   "source": [
    "## actual logic"
   ]
  },
  {
   "cell_type": "code",
   "execution_count": 5,
   "id": "6be5887e",
   "metadata": {},
   "outputs": [],
   "source": [
    "lp = [Player(df.iloc[i, 1], df.iloc[i, 2], df.iloc[i, 3], df.iloc[i, 4]) for i in range(len(df))]\n",
    "r = 11\n",
    "n = len(lp)\n",
    "cm = getCombinationList(lp, n, r)\n",
    "cm = [tuple(e) for e in cm]"
   ]
  },
  {
   "cell_type": "code",
   "execution_count": 6,
   "id": "79a4d37d",
   "metadata": {},
   "outputs": [
    {
     "name": "stdout",
     "output_type": "stream",
     "text": [
      "[N Counter, I Kishan, J Neesham, J Bumrah, C Sakariya, R Sharma, E lewis, M Rahman, Y Jaiswal, S yadav, D Miller, R Tewatia, J Yadav, K Pollard, H Pandya, S Dube, S Samson, T Boult, S Tiwary, S Goapal, K Yadav, G Philips]\n"
     ]
    },
    {
     "data": {
      "text/plain": [
       "705432"
      ]
     },
     "execution_count": 6,
     "metadata": {},
     "output_type": "execute_result"
    }
   ],
   "source": [
    "print(lp)\n",
    "len(cm) # expected count 705432"
   ]
  },
  {
   "cell_type": "markdown",
   "id": "422c98a0",
   "metadata": {},
   "source": [
    "## filter based on team count"
   ]
  },
  {
   "cell_type": "code",
   "execution_count": 7,
   "id": "5248c97b",
   "metadata": {},
   "outputs": [],
   "source": [
    "invalid_teams = []\n",
    "for team in cm:\n",
    "    team1_count =0\n",
    "    team2_count =0\n",
    "    for player in team:\n",
    "        if player.team == 1:\n",
    "            team1_count+=1\n",
    "        if player.team == 2:\n",
    "            team2_count+=1\n",
    "    if team1_count > 7 or team2_count > 7:\n",
    "        invalid_teams.append(team)"
   ]
  },
  {
   "cell_type": "code",
   "execution_count": 8,
   "id": "c63830ab",
   "metadata": {},
   "outputs": [
    {
     "name": "stdout",
     "output_type": "stream",
     "text": [
      "644688\n"
     ]
    }
   ],
   "source": [
    "s = set(invalid_teams)\n",
    "valid_teams = [x for x in cm if x not in s]\n",
    "print(len(valid_teams)) # expected count is 644688"
   ]
  },
  {
   "cell_type": "markdown",
   "id": "31ac00ba",
   "metadata": {},
   "source": [
    "## filter based on category"
   ]
  },
  {
   "cell_type": "code",
   "execution_count": 9,
   "id": "9e856727",
   "metadata": {},
   "outputs": [],
   "source": [
    "invalid_teams_cat_based = []\n",
    "for team in valid_teams:\n",
    "    wk_count =0\n",
    "    bat_count =0\n",
    "    bowl_count=0\n",
    "    all_count=0\n",
    "    for player in team:\n",
    "        if player.category == 'WK':\n",
    "            wk_count+=1\n",
    "        if player.category == 'BOWL':\n",
    "            bowl_count+=1\n",
    "        if player.category == 'BAT':\n",
    "            bat_count+=1\n",
    "        if player.category == 'ALL':\n",
    "            all_count+=1\n",
    "    if wk_count < 1 or wk_count > 4:\n",
    "        invalid_teams_cat_based.append(team)\n",
    "    elif bat_count < 3 or bat_count > 6:\n",
    "        invalid_teams_cat_based.append(team)\n",
    "    elif all_count < 1 or all_count > 4:\n",
    "        invalid_teams_cat_based.append(team)\n",
    "    elif bowl_count < 3 or bowl_count > 6:\n",
    "        invalid_teams_cat_based.append(team)\n",
    "        "
   ]
  },
  {
   "cell_type": "code",
   "execution_count": 10,
   "id": "3fef2098",
   "metadata": {},
   "outputs": [
    {
     "name": "stdout",
     "output_type": "stream",
     "text": [
      "289296\n"
     ]
    }
   ],
   "source": [
    "print(len(invalid_teams_cat_based))"
   ]
  },
  {
   "cell_type": "code",
   "execution_count": 11,
   "id": "cdf998bc",
   "metadata": {},
   "outputs": [
    {
     "name": "stdout",
     "output_type": "stream",
     "text": [
      "355392\n"
     ]
    }
   ],
   "source": [
    "s = set(invalid_teams_cat_based)\n",
    "valid_teams_cat_based = [x for x in valid_teams if x not in s]\n",
    "print(len(valid_teams_cat_based))# expected count is 355392"
   ]
  },
  {
   "cell_type": "markdown",
   "id": "7d742e42",
   "metadata": {},
   "source": [
    "## filter based on credits"
   ]
  },
  {
   "cell_type": "code",
   "execution_count": 12,
   "id": "4eebe009",
   "metadata": {},
   "outputs": [],
   "source": [
    "invalid_teams_credit_based = []\n",
    "for team in valid_teams_cat_based:\n",
    "    credit_count =0\n",
    "    for player in team:\n",
    "        credit_count+=player.credit\n",
    "    if credit_count > 100:\n",
    "        invalid_teams_credit_based.append(team)   "
   ]
  },
  {
   "cell_type": "code",
   "execution_count": 13,
   "id": "74423827",
   "metadata": {},
   "outputs": [
    {
     "name": "stdout",
     "output_type": "stream",
     "text": [
      "355000\n"
     ]
    }
   ],
   "source": [
    "s = set(invalid_teams_credit_based)\n",
    "valid_teams_credit_based = [x for x in valid_teams_cat_based if x not in s]\n",
    "print(len(valid_teams_credit_based))# expected count is 355000"
   ]
  },
  {
   "cell_type": "markdown",
   "id": "a645664b",
   "metadata": {},
   "source": [
    "## Validation"
   ]
  },
  {
   "cell_type": "code",
   "execution_count": 18,
   "id": "51b538a6",
   "metadata": {},
   "outputs": [
    {
     "name": "stdout",
     "output_type": "stream",
     "text": [
      "(N Counter, I Kishan, J Neesham, J Bumrah, C Sakariya, R Sharma, E lewis, M Rahman, Y Jaiswal, S yadav, D Miller)\n",
      "yes\n"
     ]
    }
   ],
   "source": [
    "dream_team = tuple(p for p in lp[:11])\n",
    "print(dream_team)\n",
    "if dream_team in valid_teams_credit_based:\n",
    "    print(\"yes\")\n",
    "else:\n",
    "    print(\"no\")"
   ]
  }
 ],
 "metadata": {
  "kernelspec": {
   "display_name": "Python 3 (ipykernel)",
   "language": "python",
   "name": "python3"
  },
  "language_info": {
   "codemirror_mode": {
    "name": "ipython",
    "version": 3
   },
   "file_extension": ".py",
   "mimetype": "text/x-python",
   "name": "python",
   "nbconvert_exporter": "python",
   "pygments_lexer": "ipython3",
   "version": "3.10.8"
  }
 },
 "nbformat": 4,
 "nbformat_minor": 5
}
